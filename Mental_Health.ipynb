{
 "cells": [
  {
   "cell_type": "code",
   "execution_count": 40,
   "metadata": {},
   "outputs": [],
   "source": [
    "import sqlite3\n",
    "import pandas as pd\n",
    "import seaborn as sns\n",
    "import matplotlib.pyplot as plt\n",
    "import numpy as np\n",
    "pd.set_option('display.max_colwidth', None)"
   ]
  },
  {
   "cell_type": "markdown",
   "metadata": {},
   "source": [
    "# <font color='blue'><p style=\"font-size: 40px;\"><b>Mental Health in Tech Industry</b></p>"
   ]
  },
  {
   "cell_type": "markdown",
   "metadata": {},
   "source": [
    "### \"Embark on an exploration of mental health in the Tech Industry through a rich dataset. Uncover insights on demographics, survey trends, and potential correlations impacting professionals' well-being. Let's delve into key questions to illuminate the intricate intersection of mental health and the tech workplace.\""
   ]
  },
  {
   "cell_type": "markdown",
   "metadata": {},
   "source": [
    "## Connection"
   ]
  },
  {
   "cell_type": "code",
   "execution_count": 41,
   "metadata": {},
   "outputs": [],
   "source": [
    "conn = sqlite3.connect('Data/mental_health.sqlite')"
   ]
  },
  {
   "cell_type": "markdown",
   "metadata": {},
   "source": [
    "## Functions"
   ]
  },
  {
   "cell_type": "markdown",
   "metadata": {},
   "source": [
    "##### \"About\"\n",
    "- This is a section to define the functions that will be used during the analysis."
   ]
  },
  {
   "cell_type": "markdown",
   "metadata": {},
   "source": [
    "### Selects"
   ]
  },
  {
   "cell_type": "code",
   "execution_count": 42,
   "metadata": {},
   "outputs": [],
   "source": [
    "def select_from(columns, table) -> pd.DataFrame:\n",
    "    \"\"\"\n",
    "    Executes a SQL SELECT query to retrieve specified columns from a given table.\n",
    "\n",
    "    Args:\n",
    "        columns (list): A list of column names to be selected.\n",
    "        table (str): The name of the table from which to select columns.\n",
    "\n",
    "    Returns:\n",
    "        pandas.DataFrame: A DataFrame containing the result of the SELECT query.\n",
    "\n",
    "    Raises:\n",
    "        ValueError: If the 'columns' parameter is empty.\n",
    "        ValueError: If the 'table' parameter is empty.\n",
    "\n",
    "    Example:\n",
    "        >>> columns_to_select = ['column1', 'column2']\n",
    "        >>> table_name = 'example_table'\n",
    "        >>> result_dataframe = select_from(columns_to_select, table_name)\n",
    "    \"\"\"\n",
    "    query = \"SELECT {} FROM {}\".format(','.join(columns), table)\n",
    "    result_df = pd.read_sql_query(query, conn)\n",
    "    return result_df"
   ]
  },
  {
   "cell_type": "code",
   "execution_count": 43,
   "metadata": {},
   "outputs": [],
   "source": [
    "def select_from_where(columns, table, condition_column, condition_value) -> pd.DataFrame:\n",
    "    \"\"\"\n",
    "    Executes a SQL SELECT query to retrieve specified columns from a given table with a WHERE clause.\n",
    "\n",
    "    Args:\n",
    "        columns (list): A list of column names to be selected.\n",
    "        table (str): The name of the table from which to select columns.\n",
    "        condition_column (str): The column on which to apply the WHERE clause condition.\n",
    "        condition_value: The value used in the WHERE clause condition.\n",
    "\n",
    "    Returns:\n",
    "        pandas.DataFrame: A DataFrame containing the result of the SELECT query with the specified condition.\n",
    "\n",
    "    Raises:\n",
    "        ValueError: If the 'columns' parameter is empty.\n",
    "        ValueError: If the 'table' parameter is empty.\n",
    "        ValueError: If the 'condition_column' parameter is empty.\n",
    "        ValueError: If the 'condition_value' parameter is empty.\n",
    "\n",
    "    Example:\n",
    "        >>> columns_to_select = ['column1', 'column2']\n",
    "        >>> table_name = 'example_table'\n",
    "        >>> condition_column = 'column3'\n",
    "        >>> condition_value = 42\n",
    "        >>> result_dataframe = select_from_where(columns_to_select, table_name, condition_column, condition_value)\n",
    "    \"\"\"\n",
    "    query = \"SELECT {} FROM {} WHERE {} = ?\".format(\n",
    "        ','.join(columns), table, condition_column)\n",
    "    result_df = pd.read_sql_query(query, conn, params=(condition_value,))\n",
    "    return result_df"
   ]
  },
  {
   "cell_type": "markdown",
   "metadata": {},
   "source": [
    "### Barplots"
   ]
  },
  {
   "cell_type": "markdown",
   "metadata": {},
   "source": [
    "#### Plot Functions"
   ]
  },
  {
   "cell_type": "code",
   "execution_count": 44,
   "metadata": {},
   "outputs": [],
   "source": [
    "def create_barplot(data, x, y, title, xlabel, ylabel):\n",
    "    \"\"\"\n",
    "    Creates a bar plot using Seaborn with the specified data and plot attributes.\n",
    "\n",
    "    Args:\n",
    "        data (pandas.DataFrame): The DataFrame containing the data to be plotted.\n",
    "        x (str): The column name for the x-axis.\n",
    "        y (str): The column name for the y-axis.\n",
    "        title (str): The title of the bar plot.\n",
    "        xlabel (str): The label for the x-axis.\n",
    "        ylabel (str): The label for the y-axis.\n",
    "\n",
    "    Returns:\n",
    "        plot\n",
    "\n",
    "    Raises:\n",
    "        ValueError: If the 'data' parameter is not a valid pandas DataFrame.\n",
    "        ValueError: If either 'x' or 'y' parameter is not a valid column in the DataFrame.\n",
    "\n",
    "    Example:\n",
    "        >>> import seaborn as sns\n",
    "        >>> import pandas as pd\n",
    "        >>> create_barplot(my_dataframe, 'column_x', 'column_y', 'My Bar Plot', 'X-axis Label', 'Y-axis Label')\n",
    "    \"\"\"\n",
    "    ax = sns.barplot(x=x, y=y, data=data)\n",
    "    sns.despine()\n",
    "    plt.title(title)\n",
    "    plt.xlabel(xlabel)\n",
    "    plt.ylabel(ylabel)\n",
    "    return ax"
   ]
  },
  {
   "cell_type": "code",
   "execution_count": 45,
   "metadata": {},
   "outputs": [],
   "source": [
    "def create_barplot_hue(data, x, y, hue, title, xlabel, ylabel):\n",
    "    \"\"\"\n",
    "    Creates a bar plot using Seaborn with the specified data and plot attributes, incorporating hue.\n",
    "\n",
    "    Args:\n",
    "        data (pandas.DataFrame): The DataFrame containing the data to be plotted.\n",
    "        x (str): The column name for the x-axis.\n",
    "        y (str): The column name for the y-axis.\n",
    "        hue (str): The column name to differentiate bars by color.\n",
    "        title (str): The title of the bar plot.\n",
    "        xlabel (str): The label for the x-axis.\n",
    "        ylabel (str): The label for the y-axis.\n",
    "\n",
    "    Returns:\n",
    "        None\n",
    "\n",
    "    Raises:\n",
    "        ValueError: If the 'data' parameter is not a valid pandas DataFrame.\n",
    "        ValueError: If either 'x' or 'y' parameter is not a valid column in the DataFrame.\n",
    "        ValueError: If 'hue' parameter is not a valid column in the DataFrame.\n",
    "\n",
    "    Example:\n",
    "        >>> import seaborn as sns\n",
    "        >>> import pandas as pd\n",
    "        >>> create_barplot_hue(my_dataframe, 'column_x', 'column_y', 'category_column', 'My Bar Plot with Hue', 'X-axis Label', 'Y-axis Label')\n",
    "    \"\"\"\n",
    "    sns.barplot(x=x, y=y, hue=hue, data=data)\n",
    "    sns.despine()\n",
    "    plt.title(title)\n",
    "    plt.xlabel(xlabel)\n",
    "    plt.ylabel(ylabel)\n",
    "    plt.show()\n"
   ]
  },
  {
   "cell_type": "markdown",
   "metadata": {},
   "source": [
    "#### Label Plots"
   ]
  },
  {
   "cell_type": "code",
   "execution_count": 46,
   "metadata": {},
   "outputs": [],
   "source": [
    "def add_percentage_to_plot(ax):\n",
    "    total_height = sum([bar.get_height() for bar in ax.patches])\n",
    "\n",
    "    # Add percentage labels to each bar\n",
    "    for bar in ax.patches:\n",
    "        height = bar.get_height()\n",
    "        ax.text(bar.get_x() + bar.get_width() / 2, height + 0.5,\n",
    "                f'{height / total_height:.1%}', ha='center', va='bottom')"
   ]
  },
  {
   "cell_type": "markdown",
   "metadata": {},
   "source": [
    "## Tables"
   ]
  },
  {
   "cell_type": "markdown",
   "metadata": {},
   "source": [
    "##### \"About\"\n",
    "- This is a section to present how the Database looks like and how many tables are within."
   ]
  },
  {
   "cell_type": "markdown",
   "metadata": {},
   "source": [
    "### Survey Table"
   ]
  },
  {
   "cell_type": "code",
   "execution_count": 47,
   "metadata": {},
   "outputs": [
    {
     "data": {
      "text/html": [
       "<div>\n",
       "<style scoped>\n",
       "    .dataframe tbody tr th:only-of-type {\n",
       "        vertical-align: middle;\n",
       "    }\n",
       "\n",
       "    .dataframe tbody tr th {\n",
       "        vertical-align: top;\n",
       "    }\n",
       "\n",
       "    .dataframe thead th {\n",
       "        text-align: right;\n",
       "    }\n",
       "</style>\n",
       "<table border=\"1\" class=\"dataframe\">\n",
       "  <thead>\n",
       "    <tr style=\"text-align: right;\">\n",
       "      <th></th>\n",
       "      <th>SurveyID</th>\n",
       "      <th>Description</th>\n",
       "    </tr>\n",
       "  </thead>\n",
       "  <tbody>\n",
       "    <tr>\n",
       "      <th>0</th>\n",
       "      <td>2014</td>\n",
       "      <td>mental health survey for 2014</td>\n",
       "    </tr>\n",
       "    <tr>\n",
       "      <th>1</th>\n",
       "      <td>2016</td>\n",
       "      <td>mental health survey for 2016</td>\n",
       "    </tr>\n",
       "    <tr>\n",
       "      <th>2</th>\n",
       "      <td>2017</td>\n",
       "      <td>mental health survey for 2017</td>\n",
       "    </tr>\n",
       "    <tr>\n",
       "      <th>3</th>\n",
       "      <td>2018</td>\n",
       "      <td>mental health survey for 2018</td>\n",
       "    </tr>\n",
       "    <tr>\n",
       "      <th>4</th>\n",
       "      <td>2019</td>\n",
       "      <td>mental health survey for 2019</td>\n",
       "    </tr>\n",
       "  </tbody>\n",
       "</table>\n",
       "</div>"
      ],
      "text/plain": [
       "   SurveyID                    Description\n",
       "0      2014  mental health survey for 2014\n",
       "1      2016  mental health survey for 2016\n",
       "2      2017  mental health survey for 2017\n",
       "3      2018  mental health survey for 2018\n",
       "4      2019  mental health survey for 2019"
      ]
     },
     "execution_count": 47,
     "metadata": {},
     "output_type": "execute_result"
    }
   ],
   "source": [
    "survey_table = select_from(['*'], 'Survey')\n",
    "survey_table"
   ]
  },
  {
   "cell_type": "markdown",
   "metadata": {},
   "source": [
    "##### \"Analysis\"\n",
    "- The data spans a total of 5 years, but there is an absence of information for the year 2015. It's possible that the survey did not take place during that year."
   ]
  },
  {
   "cell_type": "markdown",
   "metadata": {},
   "source": [
    "### Question Table"
   ]
  },
  {
   "cell_type": "code",
   "execution_count": 48,
   "metadata": {},
   "outputs": [
    {
     "data": {
      "text/html": [
       "<div>\n",
       "<style scoped>\n",
       "    .dataframe tbody tr th:only-of-type {\n",
       "        vertical-align: middle;\n",
       "    }\n",
       "\n",
       "    .dataframe tbody tr th {\n",
       "        vertical-align: top;\n",
       "    }\n",
       "\n",
       "    .dataframe thead th {\n",
       "        text-align: right;\n",
       "    }\n",
       "</style>\n",
       "<table border=\"1\" class=\"dataframe\">\n",
       "  <thead>\n",
       "    <tr style=\"text-align: right;\">\n",
       "      <th></th>\n",
       "      <th>questiontext</th>\n",
       "      <th>questionid</th>\n",
       "    </tr>\n",
       "  </thead>\n",
       "  <tbody>\n",
       "    <tr>\n",
       "      <th>0</th>\n",
       "      <td>What is your age?</td>\n",
       "      <td>1</td>\n",
       "    </tr>\n",
       "    <tr>\n",
       "      <th>1</th>\n",
       "      <td>What is your gender?</td>\n",
       "      <td>2</td>\n",
       "    </tr>\n",
       "    <tr>\n",
       "      <th>2</th>\n",
       "      <td>What country do you live in?</td>\n",
       "      <td>3</td>\n",
       "    </tr>\n",
       "    <tr>\n",
       "      <th>3</th>\n",
       "      <td>If you live in the United States, which state or territory do you live in?</td>\n",
       "      <td>4</td>\n",
       "    </tr>\n",
       "    <tr>\n",
       "      <th>4</th>\n",
       "      <td>Are you self-employed?</td>\n",
       "      <td>5</td>\n",
       "    </tr>\n",
       "    <tr>\n",
       "      <th>...</th>\n",
       "      <td>...</td>\n",
       "      <td>...</td>\n",
       "    </tr>\n",
       "    <tr>\n",
       "      <th>100</th>\n",
       "      <td>Do you think that team members/co-workers would view you more negatively if they knew you suffered from a mental health issue?</td>\n",
       "      <td>114</td>\n",
       "    </tr>\n",
       "    <tr>\n",
       "      <th>101</th>\n",
       "      <td>If yes, what condition(s) have you been diagnosed with?</td>\n",
       "      <td>115</td>\n",
       "    </tr>\n",
       "    <tr>\n",
       "      <th>102</th>\n",
       "      <td>If maybe, what condition(s) do you believe you have?</td>\n",
       "      <td>116</td>\n",
       "    </tr>\n",
       "    <tr>\n",
       "      <th>103</th>\n",
       "      <td>Which of the following best describes your work position?</td>\n",
       "      <td>117</td>\n",
       "    </tr>\n",
       "    <tr>\n",
       "      <th>104</th>\n",
       "      <td>Do you work remotely?</td>\n",
       "      <td>118</td>\n",
       "    </tr>\n",
       "  </tbody>\n",
       "</table>\n",
       "<p>105 rows × 2 columns</p>\n",
       "</div>"
      ],
      "text/plain": [
       "                                                                                                                       questiontext  \\\n",
       "0                                                                                                                 What is your age?   \n",
       "1                                                                                                              What is your gender?   \n",
       "2                                                                                                      What country do you live in?   \n",
       "3                                                        If you live in the United States, which state or territory do you live in?   \n",
       "4                                                                                                            Are you self-employed?   \n",
       "..                                                                                                                              ...   \n",
       "100  Do you think that team members/co-workers would view you more negatively if they knew you suffered from a mental health issue?   \n",
       "101                                                                         If yes, what condition(s) have you been diagnosed with?   \n",
       "102                                                                            If maybe, what condition(s) do you believe you have?   \n",
       "103                                                                       Which of the following best describes your work position?   \n",
       "104                                                                                                           Do you work remotely?   \n",
       "\n",
       "     questionid  \n",
       "0             1  \n",
       "1             2  \n",
       "2             3  \n",
       "3             4  \n",
       "4             5  \n",
       "..          ...  \n",
       "100         114  \n",
       "101         115  \n",
       "102         116  \n",
       "103         117  \n",
       "104         118  \n",
       "\n",
       "[105 rows x 2 columns]"
      ]
     },
     "execution_count": 48,
     "metadata": {},
     "output_type": "execute_result"
    }
   ],
   "source": [
    "question_table = select_from(['*'], 'Question')\n",
    "question_table"
   ]
  },
  {
   "cell_type": "markdown",
   "metadata": {},
   "source": [
    "##### \"Analysis\"\n",
    "- There is a total of 105 questions, but the \"questionid\" numbering goes up to 118. This suggests that some questions might have been deleted or lost in the dataset, as there are jumps from question 34 to question 48."
   ]
  },
  {
   "cell_type": "markdown",
   "metadata": {},
   "source": [
    "### Answer Table"
   ]
  },
  {
   "cell_type": "code",
   "execution_count": 49,
   "metadata": {},
   "outputs": [
    {
     "data": {
      "text/html": [
       "<div>\n",
       "<style scoped>\n",
       "    .dataframe tbody tr th:only-of-type {\n",
       "        vertical-align: middle;\n",
       "    }\n",
       "\n",
       "    .dataframe tbody tr th {\n",
       "        vertical-align: top;\n",
       "    }\n",
       "\n",
       "    .dataframe thead th {\n",
       "        text-align: right;\n",
       "    }\n",
       "</style>\n",
       "<table border=\"1\" class=\"dataframe\">\n",
       "  <thead>\n",
       "    <tr style=\"text-align: right;\">\n",
       "      <th></th>\n",
       "      <th>AnswerText</th>\n",
       "      <th>SurveyID</th>\n",
       "      <th>UserID</th>\n",
       "      <th>QuestionID</th>\n",
       "    </tr>\n",
       "  </thead>\n",
       "  <tbody>\n",
       "    <tr>\n",
       "      <th>0</th>\n",
       "      <td>37</td>\n",
       "      <td>2014</td>\n",
       "      <td>1</td>\n",
       "      <td>1</td>\n",
       "    </tr>\n",
       "    <tr>\n",
       "      <th>1</th>\n",
       "      <td>44</td>\n",
       "      <td>2014</td>\n",
       "      <td>2</td>\n",
       "      <td>1</td>\n",
       "    </tr>\n",
       "    <tr>\n",
       "      <th>2</th>\n",
       "      <td>32</td>\n",
       "      <td>2014</td>\n",
       "      <td>3</td>\n",
       "      <td>1</td>\n",
       "    </tr>\n",
       "    <tr>\n",
       "      <th>3</th>\n",
       "      <td>31</td>\n",
       "      <td>2014</td>\n",
       "      <td>4</td>\n",
       "      <td>1</td>\n",
       "    </tr>\n",
       "    <tr>\n",
       "      <th>4</th>\n",
       "      <td>31</td>\n",
       "      <td>2014</td>\n",
       "      <td>5</td>\n",
       "      <td>1</td>\n",
       "    </tr>\n",
       "    <tr>\n",
       "      <th>...</th>\n",
       "      <td>...</td>\n",
       "      <td>...</td>\n",
       "      <td>...</td>\n",
       "      <td>...</td>\n",
       "    </tr>\n",
       "    <tr>\n",
       "      <th>236893</th>\n",
       "      <td>Other</td>\n",
       "      <td>2016</td>\n",
       "      <td>2689</td>\n",
       "      <td>117</td>\n",
       "    </tr>\n",
       "    <tr>\n",
       "      <th>236894</th>\n",
       "      <td>Support</td>\n",
       "      <td>2016</td>\n",
       "      <td>2690</td>\n",
       "      <td>117</td>\n",
       "    </tr>\n",
       "    <tr>\n",
       "      <th>236895</th>\n",
       "      <td>Back-end Developer</td>\n",
       "      <td>2016</td>\n",
       "      <td>2691</td>\n",
       "      <td>117</td>\n",
       "    </tr>\n",
       "    <tr>\n",
       "      <th>236896</th>\n",
       "      <td>DevOps/SysAdmin</td>\n",
       "      <td>2016</td>\n",
       "      <td>2692</td>\n",
       "      <td>117</td>\n",
       "    </tr>\n",
       "    <tr>\n",
       "      <th>236897</th>\n",
       "      <td>Other</td>\n",
       "      <td>2016</td>\n",
       "      <td>2693</td>\n",
       "      <td>117</td>\n",
       "    </tr>\n",
       "  </tbody>\n",
       "</table>\n",
       "<p>236898 rows × 4 columns</p>\n",
       "</div>"
      ],
      "text/plain": [
       "                AnswerText  SurveyID  UserID  QuestionID\n",
       "0                       37      2014       1           1\n",
       "1                       44      2014       2           1\n",
       "2                       32      2014       3           1\n",
       "3                       31      2014       4           1\n",
       "4                       31      2014       5           1\n",
       "...                    ...       ...     ...         ...\n",
       "236893               Other      2016    2689         117\n",
       "236894             Support      2016    2690         117\n",
       "236895  Back-end Developer      2016    2691         117\n",
       "236896     DevOps/SysAdmin      2016    2692         117\n",
       "236897               Other      2016    2693         117\n",
       "\n",
       "[236898 rows x 4 columns]"
      ]
     },
     "execution_count": 49,
     "metadata": {},
     "output_type": "execute_result"
    }
   ],
   "source": [
    "answer_table = select_from(['*'], 'Answer')\n",
    "answer_table"
   ]
  },
  {
   "cell_type": "markdown",
   "metadata": {},
   "source": [
    "##### \"Analysis\"\n",
    "- There is a total of 236,898 answers in the dataset."
   ]
  },
  {
   "cell_type": "markdown",
   "metadata": {},
   "source": [
    "## Checking Answer Table"
   ]
  },
  {
   "cell_type": "markdown",
   "metadata": {},
   "source": [
    "##### \"About\"\n",
    "This is a section to understand more about:\n",
    "- How many users answered the Survey ?\n",
    "- How many users are distribuided per year ?\n",
    "- How many answers per year ?\n",
    "- What are the most common answered questions in the Survey by total Users ?"
   ]
  },
  {
   "cell_type": "markdown",
   "metadata": {},
   "source": [
    "### Total Users"
   ]
  },
  {
   "cell_type": "code",
   "execution_count": 50,
   "metadata": {},
   "outputs": [
    {
     "data": {
      "text/html": [
       "<div>\n",
       "<style scoped>\n",
       "    .dataframe tbody tr th:only-of-type {\n",
       "        vertical-align: middle;\n",
       "    }\n",
       "\n",
       "    .dataframe tbody tr th {\n",
       "        vertical-align: top;\n",
       "    }\n",
       "\n",
       "    .dataframe thead th {\n",
       "        text-align: right;\n",
       "    }\n",
       "</style>\n",
       "<table border=\"1\" class=\"dataframe\">\n",
       "  <thead>\n",
       "    <tr style=\"text-align: right;\">\n",
       "      <th></th>\n",
       "      <th>TotalUsers</th>\n",
       "    </tr>\n",
       "  </thead>\n",
       "  <tbody>\n",
       "    <tr>\n",
       "      <th>0</th>\n",
       "      <td>4218</td>\n",
       "    </tr>\n",
       "  </tbody>\n",
       "</table>\n",
       "</div>"
      ],
      "text/plain": [
       "   TotalUsers\n",
       "0        4218"
      ]
     },
     "execution_count": 50,
     "metadata": {},
     "output_type": "execute_result"
    }
   ],
   "source": [
    "query = \"\"\"\n",
    "SELECT \n",
    "    COUNT(DISTINCT Answer.UserID) as TotalUsers\n",
    "FROM \n",
    "    Answer\n",
    "JOIN\n",
    "    Survey ON Survey.SurveyID=Answer.SurveyID\n",
    "\"\"\"\n",
    "df = pd.read_sql_query(query, conn)\n",
    "df"
   ]
  },
  {
   "cell_type": "markdown",
   "metadata": {},
   "source": [
    "### Total Users Per Year"
   ]
  },
  {
   "cell_type": "code",
   "execution_count": 85,
   "metadata": {},
   "outputs": [
    {
     "data": {
      "image/png": "[encoded data removed]",
      "text/plain": [
       "<Figure size 640x480 with 1 Axes>"
      ]
     },
     "metadata": {},
     "output_type": "display_data"
    }
   ],
   "source": [
    "query = \"\"\"\n",
    "SELECT \n",
    "    Answer.SurveyID,\n",
    "    COUNT(DISTINCT Answer.UserID) as TotalUsers\n",
    "FROM \n",
    "    Answer\n",
    "JOIN\n",
    "    Survey ON Survey.SurveyID=Answer.SurveyID\n",
    "GROUP BY\n",
    "    Answer.SurveyID\n",
    "\"\"\"\n",
    "df = pd.read_sql_query(query, conn)\n",
    "ax = create_barplot(df, 'SurveyID', 'TotalUsers', 'Total Users Per Year', '', '')\n",
    "add_percentage_to_plot(ax)"
   ]
  },
  {
   "cell_type": "markdown",
   "metadata": {},
   "source": [
    "##### \"Analysis\"\n",
    "- The year 2016 witnessed the highest number of respondents to the survey."
   ]
  },
  {
   "cell_type": "markdown",
   "metadata": {},
   "source": [
    "### Total Answers per Year"
   ]
  },
  {
   "cell_type": "code",
   "execution_count": 86,
   "metadata": {},
   "outputs": [
    {
     "data": {
      "image/png": "[encoded data removed]",
      "text/plain": [
       "<Figure size 640x480 with 1 Axes>"
      ]
     },
     "metadata": {},
     "output_type": "display_data"
    }
   ],
   "source": [
    "df = pd.DataFrame(answer_table.groupby(by='SurveyID').count()['AnswerText'])\n",
    "ax = create_barplot(df, 'SurveyID', 'AnswerText', '', '', 'Total of Answers')\n",
    "add_percentage_to_plot(ax)"
   ]
  },
  {
   "cell_type": "markdown",
   "metadata": {},
   "source": [
    "##### \"Analysis\"\n",
    "- Across each year, there are varying counts of \"AnswerText.\"\n",
    "- There's a possibility that certain questions were not mandatory, leading to fluctuations in response counts. People might have been hesitant to answer those questions, or the survey could have been perceived as lengthy."
   ]
  },
  {
   "cell_type": "markdown",
   "metadata": {},
   "source": [
    "### Most Common Answered Questions"
   ]
  },
  {
   "cell_type": "code",
   "execution_count": 53,
   "metadata": {},
   "outputs": [
    {
     "data": {
      "text/html": [
       "<div>\n",
       "<style scoped>\n",
       "    .dataframe tbody tr th:only-of-type {\n",
       "        vertical-align: middle;\n",
       "    }\n",
       "\n",
       "    .dataframe tbody tr th {\n",
       "        vertical-align: top;\n",
       "    }\n",
       "\n",
       "    .dataframe thead th {\n",
       "        text-align: right;\n",
       "    }\n",
       "</style>\n",
       "<table border=\"1\" class=\"dataframe\">\n",
       "  <thead>\n",
       "    <tr style=\"text-align: right;\">\n",
       "      <th></th>\n",
       "      <th>TotalUsersAnswered</th>\n",
       "      <th>QuestionIdList</th>\n",
       "    </tr>\n",
       "  </thead>\n",
       "  <tbody>\n",
       "    <tr>\n",
       "      <th>0</th>\n",
       "      <td>4218</td>\n",
       "      <td>[1, 2, 3, 4, 5, 6, 7, 8, 9, 10, 11, 12]</td>\n",
       "    </tr>\n",
       "    <tr>\n",
       "      <th>1</th>\n",
       "      <td>2958</td>\n",
       "      <td>[13, 14, 15, 16, 17, 18, 19, 20, 21, 22, 23, 24, 25, 26, 27, 28, 29, 30, 31, 32, 33, 34, 48, 49, 50, 51, 52, 53, 54, 55, 56]</td>\n",
       "    </tr>\n",
       "    <tr>\n",
       "      <th>2</th>\n",
       "      <td>2693</td>\n",
       "      <td>[90, 91]</td>\n",
       "    </tr>\n",
       "    <tr>\n",
       "      <th>3</th>\n",
       "      <td>2692</td>\n",
       "      <td>[117]</td>\n",
       "    </tr>\n",
       "    <tr>\n",
       "      <th>4</th>\n",
       "      <td>2072</td>\n",
       "      <td>[115]</td>\n",
       "    </tr>\n",
       "    <tr>\n",
       "      <th>5</th>\n",
       "      <td>1793</td>\n",
       "      <td>[116]</td>\n",
       "    </tr>\n",
       "    <tr>\n",
       "      <th>6</th>\n",
       "      <td>1525</td>\n",
       "      <td>[57, 58, 59, 60, 61, 62, 63, 64, 65, 66, 67, 68, 69, 70, 71, 72, 73, 74, 75, 76, 77, 78, 79, 80, 81, 82, 83, 84, 85, 86, 87, 88, 89]</td>\n",
       "    </tr>\n",
       "    <tr>\n",
       "      <th>7</th>\n",
       "      <td>1433</td>\n",
       "      <td>[104, 105, 106, 107, 108, 109, 110, 111, 112, 113, 114, 118]</td>\n",
       "    </tr>\n",
       "    <tr>\n",
       "      <th>8</th>\n",
       "      <td>1260</td>\n",
       "      <td>[92, 93, 94, 95, 96, 97, 98, 99, 100, 101, 102, 103]</td>\n",
       "    </tr>\n",
       "  </tbody>\n",
       "</table>\n",
       "</div>"
      ],
      "text/plain": [
       "   TotalUsersAnswered  \\\n",
       "0                4218   \n",
       "1                2958   \n",
       "2                2693   \n",
       "3                2692   \n",
       "4                2072   \n",
       "5                1793   \n",
       "6                1525   \n",
       "7                1433   \n",
       "8                1260   \n",
       "\n",
       "                                                                                                                         QuestionIdList  \n",
       "0                                                                                               [1, 2, 3, 4, 5, 6, 7, 8, 9, 10, 11, 12]  \n",
       "1          [13, 14, 15, 16, 17, 18, 19, 20, 21, 22, 23, 24, 25, 26, 27, 28, 29, 30, 31, 32, 33, 34, 48, 49, 50, 51, 52, 53, 54, 55, 56]  \n",
       "2                                                                                                                              [90, 91]  \n",
       "3                                                                                                                                 [117]  \n",
       "4                                                                                                                                 [115]  \n",
       "5                                                                                                                                 [116]  \n",
       "6  [57, 58, 59, 60, 61, 62, 63, 64, 65, 66, 67, 68, 69, 70, 71, 72, 73, 74, 75, 76, 77, 78, 79, 80, 81, 82, 83, 84, 85, 86, 87, 88, 89]  \n",
       "7                                                                          [104, 105, 106, 107, 108, 109, 110, 111, 112, 113, 114, 118]  \n",
       "8                                                                                  [92, 93, 94, 95, 96, 97, 98, 99, 100, 101, 102, 103]  "
      ]
     },
     "execution_count": 53,
     "metadata": {},
     "output_type": "execute_result"
    }
   ],
   "source": [
    "query = \"\"\"\n",
    "SELECT \n",
    "    Question.QuestionID as QuestionId,\n",
    "    COUNT(AnswerText) as TotalUsersAnswered\n",
    "FROM \n",
    "    Question\n",
    "JOIN\n",
    "    Answer ON Question.QuestionID=Answer.QuestionID\n",
    "GROUP BY \n",
    "    Question.QuestionID\n",
    "\"\"\"\n",
    "df = pd.read_sql_query(query, conn)\n",
    "\n",
    "# Group by 'TotalUsersAnswered' and aggregate 'QuestionId' as a list\n",
    "df_grouped = df.groupby('TotalUsersAnswered')['QuestionId'].apply(list).reset_index(name='QuestionIdList').sort_values(by='TotalUsersAnswered', ascending=False).reset_index(drop=True)\n",
    "df_grouped"
   ]
  },
  {
   "cell_type": "markdown",
   "metadata": {},
   "source": [
    "##### \"Analysis\"\n",
    "- The table indicates that everyone in the survey answered questions 1-12.\n",
    "- However, the number of questions answered begins to decrease notably.\n",
    "- It's noteworthy that participants did not follow a specific order when answering the questions.\n",
    "- Excluding the first 12 questions, 2,692 respondents answered question 117, 2,072 answered question 115, and 1,793 answered question 116.\n",
    "- Subsequently, fewer people answered the preceding questions."
   ]
  },
  {
   "cell_type": "markdown",
   "metadata": {},
   "source": [
    "## Analysis"
   ]
  },
  {
   "cell_type": "markdown",
   "metadata": {},
   "source": [
    "##### \"About\"\n",
    "- Now we are going to dive more into the questions found to be the most common ones (1-12).\n",
    "- First, let's see what are those 12 questions.\n",
    "- Secondly, create a Demographic based on the first 3 questions (Age, Gender and Country).\n",
    "- Thirdly, analyze one of those countries and the outcomes that we can get from it.\n",
    "- And finally, analyze the correlation between some of those questions."
   ]
  },
  {
   "cell_type": "markdown",
   "metadata": {},
   "source": [
    "### First 12 Questions"
   ]
  },
  {
   "cell_type": "code",
   "execution_count": 54,
   "metadata": {},
   "outputs": [
    {
     "data": {
      "text/html": [
       "<div>\n",
       "<style scoped>\n",
       "    .dataframe tbody tr th:only-of-type {\n",
       "        vertical-align: middle;\n",
       "    }\n",
       "\n",
       "    .dataframe tbody tr th {\n",
       "        vertical-align: top;\n",
       "    }\n",
       "\n",
       "    .dataframe thead th {\n",
       "        text-align: right;\n",
       "    }\n",
       "</style>\n",
       "<table border=\"1\" class=\"dataframe\">\n",
       "  <thead>\n",
       "    <tr style=\"text-align: right;\">\n",
       "      <th></th>\n",
       "      <th>questiontext</th>\n",
       "      <th>questionid</th>\n",
       "    </tr>\n",
       "  </thead>\n",
       "  <tbody>\n",
       "    <tr>\n",
       "      <th>0</th>\n",
       "      <td>What is your age?</td>\n",
       "      <td>1</td>\n",
       "    </tr>\n",
       "    <tr>\n",
       "      <th>1</th>\n",
       "      <td>What is your gender?</td>\n",
       "      <td>2</td>\n",
       "    </tr>\n",
       "    <tr>\n",
       "      <th>2</th>\n",
       "      <td>What country do you live in?</td>\n",
       "      <td>3</td>\n",
       "    </tr>\n",
       "    <tr>\n",
       "      <th>3</th>\n",
       "      <td>If you live in the United States, which state or territory do you live in?</td>\n",
       "      <td>4</td>\n",
       "    </tr>\n",
       "    <tr>\n",
       "      <th>4</th>\n",
       "      <td>Are you self-employed?</td>\n",
       "      <td>5</td>\n",
       "    </tr>\n",
       "    <tr>\n",
       "      <th>5</th>\n",
       "      <td>Do you have a family history of mental illness?</td>\n",
       "      <td>6</td>\n",
       "    </tr>\n",
       "    <tr>\n",
       "      <th>6</th>\n",
       "      <td>Have you ever sought treatment for a mental health disorder from a mental health professional?</td>\n",
       "      <td>7</td>\n",
       "    </tr>\n",
       "    <tr>\n",
       "      <th>7</th>\n",
       "      <td>How many employees does your company or organization have?</td>\n",
       "      <td>8</td>\n",
       "    </tr>\n",
       "    <tr>\n",
       "      <th>8</th>\n",
       "      <td>Is your employer primarily a tech company/organization?</td>\n",
       "      <td>9</td>\n",
       "    </tr>\n",
       "    <tr>\n",
       "      <th>9</th>\n",
       "      <td>Does your employer provide mental health benefits as part of healthcare coverage?</td>\n",
       "      <td>10</td>\n",
       "    </tr>\n",
       "    <tr>\n",
       "      <th>10</th>\n",
       "      <td>Is your anonymity protected if you choose to take advantage of mental health or substance abuse treatment resources provided by your employer?</td>\n",
       "      <td>11</td>\n",
       "    </tr>\n",
       "    <tr>\n",
       "      <th>11</th>\n",
       "      <td>Would you bring up a mental health issue with a potential employer in an interview?</td>\n",
       "      <td>12</td>\n",
       "    </tr>\n",
       "  </tbody>\n",
       "</table>\n",
       "</div>"
      ],
      "text/plain": [
       "                                                                                                                                      questiontext  \\\n",
       "0                                                                                                                                What is your age?   \n",
       "1                                                                                                                             What is your gender?   \n",
       "2                                                                                                                     What country do you live in?   \n",
       "3                                                                       If you live in the United States, which state or territory do you live in?   \n",
       "4                                                                                                                           Are you self-employed?   \n",
       "5                                                                                                  Do you have a family history of mental illness?   \n",
       "6                                                   Have you ever sought treatment for a mental health disorder from a mental health professional?   \n",
       "7                                                                                       How many employees does your company or organization have?   \n",
       "8                                                                                          Is your employer primarily a tech company/organization?   \n",
       "9                                                                Does your employer provide mental health benefits as part of healthcare coverage?   \n",
       "10  Is your anonymity protected if you choose to take advantage of mental health or substance abuse treatment resources provided by your employer?   \n",
       "11                                                             Would you bring up a mental health issue with a potential employer in an interview?   \n",
       "\n",
       "    questionid  \n",
       "0            1  \n",
       "1            2  \n",
       "2            3  \n",
       "3            4  \n",
       "4            5  \n",
       "5            6  \n",
       "6            7  \n",
       "7            8  \n",
       "8            9  \n",
       "9           10  \n",
       "10          11  \n",
       "11          12  "
      ]
     },
     "execution_count": 54,
     "metadata": {},
     "output_type": "execute_result"
    }
   ],
   "source": [
    "question_table.head(12)"
   ]
  },
  {
   "cell_type": "markdown",
   "metadata": {},
   "source": [
    "##### \"Analysis\"\n",
    "- These are the 12 questions that all users answered."
   ]
  },
  {
   "cell_type": "markdown",
   "metadata": {},
   "source": [
    "### Demographics"
   ]
  },
  {
   "cell_type": "markdown",
   "metadata": {},
   "source": [
    "##### \"Intro\"\n",
    "- This section is designed to showcase the demographics derived from the initial three questions from the \"Answer\" table."
   ]
  },
  {
   "cell_type": "markdown",
   "metadata": {},
   "source": [
    "#### Age"
   ]
  },
  {
   "cell_type": "code",
   "execution_count": 77,
   "metadata": {},
   "outputs": [
    {
     "data": {
      "image/png": "[encoded data removed]",
      "text/plain": [
       "<Figure size 640x480 with 1 Axes>"
      ]
     },
     "metadata": {},
     "output_type": "display_data"
    }
   ],
   "source": [
    "query = \"\"\"\n",
    "SELECT \n",
    "    COUNT(Answer.UserID) as Total, \n",
    "    CASE\n",
    "        WHEN Answer.AnswerText BETWEEN 0 AND 15 THEN '0-15'\n",
    "        WHEN Answer.AnswerText BETWEEN 16 AND 30 THEN '16-30'\n",
    "        WHEN Answer.AnswerText BETWEEN 31 AND 45 THEN '31-45'\n",
    "        WHEN Answer.AnswerText BETWEEN 46 AND 60 THEN '46-60'\n",
    "        WHEN Answer.AnswerText > 61 THEN '61+'\n",
    "        ELSE 'Unknown'\n",
    "    END as AgeGroup\n",
    "FROM \n",
    "    Answer\n",
    "JOIN \n",
    "    Question ON Question.QuestionID = Answer.QuestionID\n",
    "WHERE \n",
    "    Question.QuestionID = 1\n",
    "GROUP BY \n",
    "    AgeGroup\n",
    "\"\"\"\n",
    "df = pd.read_sql_query(query, conn)\n",
    "ax = create_barplot(df, 'AgeGroup', 'Total', '', '', '')\n",
    "add_percentage_to_plot(ax)"
   ]
  },
  {
   "cell_type": "markdown",
   "metadata": {},
   "source": [
    "##### \"Analysis\"\n",
    "- The survey predominantly includes responses from young adults and adults, with the majority falling within the 31-45 age range."
   ]
  },
  {
   "cell_type": "markdown",
   "metadata": {},
   "source": [
    "#### Gender"
   ]
  },
  {
   "cell_type": "code",
   "execution_count": 87,
   "metadata": {},
   "outputs": [
    {
     "data": {
      "image/png": "[encoded data removed]",
      "text/plain": [
       "<Figure size 640x480 with 1 Axes>"
      ]
     },
     "metadata": {},
     "output_type": "display_data"
    }
   ],
   "source": [
    "query = \"\"\"\n",
    "SELECT \n",
    "    COUNT(Answer.UserID) as Total, \n",
    "    CASE\n",
    "        WHEN LOWER(Answer.AnswerText) = 'male' THEN 'M'\n",
    "        WHEN LOWER(Answer.AnswerText) = 'female' THEN 'F'\n",
    "        ELSE 'Other'\n",
    "    END as Gender\n",
    "FROM \n",
    "    Answer\n",
    "JOIN \n",
    "    Question ON Question.QuestionID = Answer.QuestionID\n",
    "WHERE \n",
    "    Question.QuestionID = 2\n",
    "GROUP BY \n",
    "    Gender\n",
    "\"\"\"\n",
    "df = pd.read_sql_query(query, conn)\n",
    "ax = create_barplot(df, 'Gender', 'Total', '' ,'' ,'')\n",
    "add_percentage_to_plot(ax)"
   ]
  },
  {
   "cell_type": "markdown",
   "metadata": {},
   "source": [
    "##### \"Analysis\"\n",
    "- Most survey responses were provided by males, followed by females."
   ]
  },
  {
   "cell_type": "markdown",
   "metadata": {},
   "source": [
    "#### Nationality"
   ]
  },
  {
   "cell_type": "code",
   "execution_count": 83,
   "metadata": {},
   "outputs": [
    {
     "data": {
      "image/png": "[encoded data removed]",
      "text/plain": [
       "<Figure size 640x480 with 1 Axes>"
      ]
     },
     "metadata": {},
     "output_type": "display_data"
    }
   ],
   "source": [
    "query = \"\"\"\n",
    "SELECT \n",
    "    COUNT(Answer.UserID) as TotalUsers, \n",
    "    Answer.AnswerText\n",
    "FROM \n",
    "    Answer\n",
    "JOIN \n",
    "    Question ON Question.QuestionID = Answer.QuestionID\n",
    "WHERE \n",
    "    Question.QuestionID = 3\n",
    "GROUP BY\n",
    "    Answer.AnswerText\n",
    "ORDER BY\n",
    "    TotalUsers DESC \n",
    "\"\"\"\n",
    "df = pd.read_sql_query(query, conn)\n",
    "\n",
    "df.loc[df['AnswerText'].str.contains('United States', regex=True, na=False), 'AnswerText'] = 'United States of America'\n",
    "\n",
    "sorted_df = df.groupby(by='AnswerText').sum().sort_values(by='TotalUsers', ascending=False).head(10)\n",
    "create_barplot(sorted_df, 'TotalUsers', 'AnswerText', '' ,'Total Users' ,'')\n",
    "plt.show()"
   ]
  },
  {
   "cell_type": "markdown",
   "metadata": {},
   "source": [
    "##### \"Analysis\"\n",
    "- The data reveals responses from 81 different nationalities in the survey.\n",
    "- The USA has the highest number of survey participants, significantly surpassing the second-place country, the United Kingdom.\n",
    "- Given the focus on Mental Health in the Tech Industry, the higher number of American respondents is understandable.\n",
    "- Now, let's explore how Americans answered the remaining questions."
   ]
  },
  {
   "cell_type": "markdown",
   "metadata": {},
   "source": [
    "### USA"
   ]
  },
  {
   "cell_type": "markdown",
   "metadata": {},
   "source": [
    "##### \"About\"\n",
    "- USA is the country that has most of the Users from.\n",
    "- On this section, I want to analyze deeper how those people answered some specific questions.\n",
    "- The questions that I'll be analysing are number 5, 6 and 7. Which I believed to be the most related to mental health combined with the Tech industry.\n",
    "- After that, I'll combine the answers from questions 5, 6 and 7 to see if those people work in the Tech industry (Question 9).\n",
    "- With that in mind, we can detect if those people would or would not bring this subject during an interview (Question 12).\n",
    "- And finish with a correlation between those questions to confirm the hypothesis of \"Are people in the Tech industry more highly to be diagnosed with mental disorder and bring this subject during a job interview?\"."
   ]
  },
  {
   "cell_type": "markdown",
   "metadata": {},
   "source": [
    "#### Question 5 - Are you self-employed?"
   ]
  },
  {
   "cell_type": "code",
   "execution_count": 64,
   "metadata": {},
   "outputs": [
    {
     "data": {
      "image/png": "[encoded data removed]",
      "text/plain": [
       "<Figure size 640x480 with 1 Axes>"
      ]
     },
     "metadata": {},
     "output_type": "display_data"
    }
   ],
   "source": [
    "query = \"\"\"\n",
    "SELECT\n",
    "    CASE WHEN AnswerText = 0 THEN 'No' \n",
    "         WHEN AnswerText = 1 THEN 'Yes'\n",
    "        WHEN AnswerText = -1 THEN 'No Employed'\n",
    "         ELSE AnswerText \n",
    "    END as AnswerText,\n",
    "    COUNT(DISTINCT UserID) as TotalAmericans,\n",
    "    AnswerText as Answer\n",
    "FROM\n",
    "    Answer\n",
    "WHERE UserID IN\n",
    "    (\n",
    "        SELECT \n",
    "            UserID\n",
    "        From \n",
    "            Answer\n",
    "        Where\n",
    "            AnswerText LIKE '%States%'\n",
    "    )\n",
    "    AND QuestionID = 5\n",
    "GROUP BY\n",
    "    AnswerText\n",
    "\"\"\"\n",
    "question5 = pd.read_sql_query(query, conn)\n",
    "ax = create_barplot(question5, 'AnswerText', 'TotalAmericans', 'Are you self-employed?', '', 'TotalAmericans')\n",
    "add_percentage_to_plot(ax)"
   ]
  },
  {
   "cell_type": "markdown",
   "metadata": {},
   "source": [
    "##### \"Analysis\"\n",
    "- The majority of Americans are not self-employed, indicating that they likely work for a company."
   ]
  },
  {
   "cell_type": "markdown",
   "metadata": {},
   "source": [
    "#### Question 6 - Do you have a family history of mental illness?"
   ]
  },
  {
   "cell_type": "code",
   "execution_count": 66,
   "metadata": {},
   "outputs": [
    {
     "data": {
      "image/png": "[encoded data removed]",
      "text/plain": [
       "<Figure size 640x480 with 1 Axes>"
      ]
     },
     "metadata": {},
     "output_type": "display_data"
    }
   ],
   "source": [
    "query = \"\"\"\n",
    "SELECT\n",
    "    COUNT(DISTINCT UserID) as TotalAmericans,\n",
    "    AnswerText as Answer\n",
    "FROM\n",
    "    Answer\n",
    "WHERE UserID IN\n",
    "    (\n",
    "        SELECT \n",
    "            UserID\n",
    "        From \n",
    "            Answer\n",
    "        Where\n",
    "            AnswerText LIKE '%States%'\n",
    "    )\n",
    "    AND QuestionID = 6\n",
    "GROUP BY\n",
    "    AnswerText\n",
    "\"\"\"\n",
    "question6 = pd.read_sql_query(query, conn)\n",
    "ax = create_barplot(question6, 'Answer', 'TotalAmericans', 'Do you have a family history of mental illness?', '', 'TotalAmericans')\n",
    "add_percentage_to_plot(ax)\n",
    "plt.show()"
   ]
  },
  {
   "cell_type": "markdown",
   "metadata": {},
   "source": [
    "##### \"Analysis\"\n",
    "- Approximately 900 Americans don't have a family history of mental illness, while around 1,400 do."
   ]
  },
  {
   "cell_type": "markdown",
   "metadata": {},
   "source": [
    "#### Question 7 - Have you ever sought treatment for a mental health disorder from a mental health professional?"
   ]
  },
  {
   "cell_type": "code",
   "execution_count": 89,
   "metadata": {},
   "outputs": [
    {
     "data": {
      "image/png": "[encoded data removed]",
      "text/plain": [
       "<Figure size 640x480 with 1 Axes>"
      ]
     },
     "metadata": {},
     "output_type": "display_data"
    }
   ],
   "source": [
    "query = \"\"\"\n",
    "SELECT\n",
    "    CASE WHEN AnswerText = '0' THEN 'No' \n",
    "         WHEN AnswerText = '1' THEN 'Yes' \n",
    "         ELSE AnswerText \n",
    "    END as AnswerText,\n",
    "    COUNT(DISTINCT UserID) as TotalAmericans\n",
    "FROM\n",
    "    Answer\n",
    "WHERE UserID IN\n",
    "    (\n",
    "        SELECT \n",
    "            UserID\n",
    "        From \n",
    "            Answer\n",
    "        Where\n",
    "            AnswerText LIKE '%States%'\n",
    "    )\n",
    "    AND QuestionID = 7\n",
    "GROUP BY\n",
    "    AnswerText\n",
    "\"\"\"\n",
    "question7 = pd.read_sql_query(query, conn)\n",
    "ax = create_barplot(question7, 'AnswerText', 'TotalAmericans', 'Sought treatment for a mental health disorder from a professional?', '', 'TotalAmericans')\n",
    "add_percentage_to_plot(ax)\n",
    "plt.show()"
   ]
  },
  {
   "cell_type": "markdown",
   "metadata": {},
   "source": [
    "##### \"Analysis\"\n",
    "- Approximately 1,700 individuals have sought treatment for a mental health disorder, suggesting a possible connection with a family history of mental health issues.\n",
    "- On the other hand, nearly 1,000 people did not seek treatment for mental health disorders.\n",
    "- Now, with this information from Questions 5, 6, and 7, let's explore specific questions to determine if there's any correlation between these aspects in the Tech Industry."
   ]
  },
  {
   "cell_type": "markdown",
   "metadata": {},
   "source": []
  },
  {
   "cell_type": "markdown",
   "metadata": {},
   "source": [
    "#### Question 9 - Is your employer primarily a tech company/organization?"
   ]
  },
  {
   "cell_type": "markdown",
   "metadata": {},
   "source": [
    "\"About\"\n",
    "- On this question, I'm taking into consideration the previous answers, like:\n",
    "- People that are not self-employed.\n",
    "- People that has a family history of mental illness.\n",
    "- People that sought treatment for mental health disorder from a professional."
   ]
  },
  {
   "cell_type": "code",
   "execution_count": 68,
   "metadata": {},
   "outputs": [
    {
     "data": {
      "image/png": "[encoded data removed]",
      "text/plain": [
       "<Figure size 640x480 with 1 Axes>"
      ]
     },
     "metadata": {},
     "output_type": "display_data"
    }
   ],
   "source": [
    "query = \"\"\"\n",
    "SELECT\n",
    "    CASE WHEN AnswerText_Question9 = '0' THEN 'No' \n",
    "         WHEN AnswerText_Question9 = '1' THEN 'Yes' \n",
    "         ELSE AnswerText_Question9 \n",
    "    END as AnswerText,\n",
    "    COUNT(DISTINCT UserID) as TotalUsers\n",
    "FROM (\n",
    "    SELECT DISTINCT\n",
    "        UserID,\n",
    "        MAX(CASE WHEN QuestionID = 9 THEN AnswerText END) as AnswerText_Question9\n",
    "    FROM Answer\n",
    "    WHERE \n",
    "        UserID IN (\n",
    "            SELECT UserID FROM Answer WHERE QuestionID = 3 AND AnswerText LIKE 'United States%'\n",
    "        )\n",
    "        AND UserID IN (\n",
    "            SELECT UserID FROM Answer WHERE QuestionID = 5 AND AnswerText = 0\n",
    "        )\n",
    "        AND UserID IN (\n",
    "            SELECT UserID FROM Answer WHERE QuestionID = 6 AND AnswerText = 'Yes'\n",
    "        )\n",
    "        AND UserID IN (\n",
    "            SELECT UserID FROM Answer WHERE QuestionID = 7 AND AnswerText = 1\n",
    "        )\n",
    "    GROUP BY UserID\n",
    ") AS Subquery\n",
    "GROUP BY AnswerText;\n",
    "\"\"\"\n",
    "question9 = pd.read_sql_query(query, conn)\n",
    "ax = create_barplot(question9, 'AnswerText', 'TotalUsers', 'Is your employer primarily a tech company/organization?', '', 'TotalAmericans')\n",
    "add_percentage_to_plot(ax)\n",
    "plt.show()"
   ]
  },
  {
   "cell_type": "markdown",
   "metadata": {},
   "source": [
    "##### \"Analysis\"\n",
    "- Among the Americans surveyed who answered the last 3 questions we analyzed, approximately 80% work in the Tech industry, have a family history of mental health disorders, and have sought treatment.\n",
    "- This suggests that the Tech Industry in the USA may have a higher percentage of people working while dealing with mental illness. This could explain the increased instances of burnouts in recent years and the high turnover rate within companies in this industry.\n",
    "- Several factors, such as long working hours, limited free time, and pressure to meet project deadlines, may contribute to this situation."
   ]
  },
  {
   "cell_type": "markdown",
   "metadata": {},
   "source": [
    "#### Question 12 - Would you bring up a mental health issue with a potential employer in an interview?"
   ]
  },
  {
   "cell_type": "code",
   "execution_count": 73,
   "metadata": {},
   "outputs": [
    {
     "data": {
      "image/png": "[encoded data removed]",
      "text/plain": [
       "<Figure size 640x480 with 1 Axes>"
      ]
     },
     "metadata": {},
     "output_type": "display_data"
    }
   ],
   "source": [
    "query = \"\"\"\n",
    "SELECT\n",
    "    SurveyID,\n",
    "    AnswerText,\n",
    "    COUNT(DISTINCT UserID) as TotalAmericans\n",
    "FROM\n",
    "    Answer\n",
    "WHERE \n",
    "    UserID IN (\n",
    "            SELECT UserID FROM Answer WHERE QuestionID = 3 AND AnswerText LIKE 'United States%'\n",
    "        )\n",
    "    AND UserID IN (\n",
    "            SELECT UserID FROM Answer WHERE QuestionID = 9 AND AnswerText = 1\n",
    "        )\n",
    "    AND QuestionID = 12\n",
    "GROUP BY\n",
    "    SurveyID, AnswerText\n",
    "\"\"\"\n",
    "question12 = pd.read_sql_query(query, conn)\n",
    "create_barplot_hue(question12, 'SurveyID', 'TotalAmericans', 'AnswerText', 'Would you bring up a mental health issue with a potential employer in an interview?', '', '')"
   ]
  },
  {
   "cell_type": "markdown",
   "metadata": {},
   "source": [
    "##### \"Analysis\"\n",
    "- Over the years, Americans working in the tech industry avoid discussing mental health issues in interviews.\n",
    "- This indicates that mental health challenges are prevalent in this industry. The fact that most people avoid discussing it during interviews suggests that mental health problems are common.\n",
    "- While some individuals might bring up mental health in interviews, the majority do not.\n",
    "- The fear of not getting hired might be why fewer people in this group mention mental health compared to other groups."
   ]
  },
  {
   "cell_type": "markdown",
   "metadata": {},
   "source": [
    "### Correlation Between Questions 5, 6, 7, 9 and 12"
   ]
  },
  {
   "cell_type": "markdown",
   "metadata": {},
   "source": [
    "\"About\"\n",
    "- To confirm our hypothesis, let's check the correlation between those questions analyzed before.\n",
    "- By creating a correlation with those question's answers."
   ]
  },
  {
   "cell_type": "code",
   "execution_count": 76,
   "metadata": {},
   "outputs": [
    {
     "data": {
      "image/png": "[encoded data removed]",
      "text/plain": [
       "<Figure size 640x480 with 2 Axes>"
      ]
     },
     "metadata": {},
     "output_type": "display_data"
    }
   ],
   "source": [
    "query = \"\"\"\n",
    "SELECT\n",
    "    MAX(CASE WHEN QuestionID = 5 THEN AnswerText END) AS self_employed,\n",
    "    MAX(CASE WHEN QuestionID = 6 THEN \n",
    "        CASE WHEN AnswerText = 'No' THEN 0 \n",
    "             WHEN AnswerText = 'Yes' THEN 1\n",
    "             WHEN AnswerText = 'I don''t know' THEN -1\n",
    "        END\n",
    "    END) AS family_history,\n",
    "    MAX(CASE WHEN QuestionID = 7 THEN AnswerText END) AS sought_treatment,\n",
    "    MAX(CASE WHEN QuestionID = 9 THEN AnswerText END) AS work_in_tech_company,\n",
    "    MAX(CASE WHEN QuestionID = 12 THEN \n",
    "        CASE WHEN AnswerText = 'No' THEN 0 \n",
    "             WHEN AnswerText = 'Yes' THEN 1\n",
    "             WHEN AnswerText = 'Maybe' THEN -1\n",
    "        END\n",
    "    END) AS disclose_mental_health\n",
    "FROM\n",
    "    Answer\n",
    "WHERE\n",
    "    QuestionID IN (5, 6, 7, 9, 12)\n",
    "GROUP BY\n",
    "    UserID;\n",
    "\"\"\"\n",
    "answers = pd.read_sql_query(query, conn)\n",
    "answers = answers.corr('spearman')\n",
    "\n",
    "mask = np.zeros_like(answers)\n",
    "mask[np.triu_indices_from(mask)] = True\n",
    "sns.heatmap(answers,\n",
    "            vmax=1, vmin=-1,\n",
    "            annot=True, annot_kws={'fontsize': 7},\n",
    "            mask=mask,\n",
    "            cmap=sns.diverging_palette(20, 220, as_cmap=True))\n",
    "plt.show()"
   ]
  },
  {
   "cell_type": "markdown",
   "metadata": {},
   "source": [
    "##### \"Analysis\"\n",
    "- Discovering interesting facts through correlations.\n",
    "- The connection between \"self_employed\" and \"work_in_tech_company\" is minimal. Being self-employed doesn't always mean working in a Tech organization. There's a small link between \"sought_treatment\" and \"disclose_mental_health\" as people seeking mental health treatment can indirectly impact work performance. Discussing this in a job interview might influence the hiring decision.\n",
    "- Additionally, \"family_history\" and \"disclose_mental_health\" also has a small correlation. Employees with family members having mental health issues are more likely to face mental health challenges themselves. Bringing up this topic in an interview could lead to concerns about potential burnouts or decreased productivity under pressure from clients.\n",
    "- The strongest correlation comes between \"sought_treatment\" and \"family_history\". Which it makes us believe that those people already have some tendency to develop a mental health disorder over the years."
   ]
  },
  {
   "cell_type": "markdown",
   "metadata": {},
   "source": [
    "## Conclusion"
   ]
  },
  {
   "cell_type": "markdown",
   "metadata": {},
   "source": [
    "\n",
    "- In conducting the analysis, several key findings and patterns have emerged from the provided dataset. The survey encompasses responses from a diverse group of individuals, with a significant focus on the mental health of those working in the Tech Industry. Notable trends include a predominant representation of young adults and individuals aged 31-45, a higher participation of males, and a substantial presence of respondents from the USA."
   ]
  },
  {
   "cell_type": "markdown",
   "metadata": {},
   "source": [
    "- Examining the survey's chronological data, it is evident that 2016 witnessed the highest participation, although it is important to note the absence of data for the year 2015. The distribution of \"AnswerText\" across the years reveals fluctuations, potentially indicating that certain questions were not mandatory or perceived as lengthy, influencing respondents' choices."
   ]
  },
  {
   "cell_type": "markdown",
   "metadata": {},
   "source": [
    "- The analysis also delves into the order and extent to which questions were answered. Despite all participants responding to questions 1-12, a decline in the number of questions answered is observed, suggesting potential participant hesitation or survey fatigue. Additionally, the dataset's question numbering reveals gaps, hinting at the possibility of deleted or lost questions."
   ]
  },
  {
   "cell_type": "markdown",
   "metadata": {},
   "source": [
    "- In preparation for a detailed analysis, specific questions (e.g., 5, 6, 7) have been identified as the basis for further exploration, particularly within the context of the Tech Industry. These questions will be examine to unveil correlations and insights regarding mental health, work conditions, and their impact on respondents. Overall, this preliminary examination sets the stage for a comprehensive analysis to uncover nuanced trends and implications within the dataset."
   ]
  },
  {
   "cell_type": "markdown",
   "metadata": {},
   "source": [
    "- In summary, our look into the info suggests that mental health and work are connected, even if for a small percentage. If you're self-employed, it doesn't necessarily mean you're in tech. Seeking mental health help (Question 7) can affect job performance and hiring decisions. Also, if family members had mental health issues (Question 6), it's linked to facing similar challenges (Question 12) at work, like feeling overwhelmed or having a hard time when things get tough. This shows how mental health, family history, and work are all tied together, highlighting the need for supportive workplaces to deal with these things."
   ]
  },
  {
   "cell_type": "markdown",
   "metadata": {},
   "source": [
    "- Analyzing the data suggests a link between mental health and the tech industry job search. While concerns about burnout may influence hiring decisions, it doesn't necessarily prevent discussing mental health in interviews or hinder job prospects."
   ]
  },
  {
   "cell_type": "markdown",
   "metadata": {},
   "source": [
    "## What could be improved ?"
   ]
  },
  {
   "cell_type": "markdown",
   "metadata": {},
   "source": [
    "- Exploring patterns in question response rates can shed light on the reasons behind fluctuations, aiding our understanding of the decline in response rates over the years"
   ]
  },
  {
   "cell_type": "markdown",
   "metadata": {},
   "source": [
    "- Relevant to explore: Assessing outcomes for candidates who disclosed mental health disorders during interviews to determine hiring success."
   ]
  }
 ],
 "metadata": {
  "kernelspec": {
   "display_name": "turing_college",
   "language": "python",
   "name": "python3"
  },
  "language_info": {
   "codemirror_mode": {
    "name": "ipython",
    "version": 3
   },
   "file_extension": ".py",
   "mimetype": "text/x-python",
   "name": "python",
   "nbconvert_exporter": "python",
   "pygments_lexer": "ipython3",
   "version": "3.12.0"
  }
 },
 "nbformat": 4,
 "nbformat_minor": 2
}
